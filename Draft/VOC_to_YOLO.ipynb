{
  "nbformat": 4,
  "nbformat_minor": 0,
  "metadata": {
    "colab": {
      "name": "VOC_to_YOLO.ipynb",
      "provenance": [],
      "collapsed_sections": []
    },
    "kernelspec": {
      "name": "python3",
      "display_name": "Python 3"
    },
    "language_info": {
      "name": "python"
    }
  },
  "cells": [
    {
      "cell_type": "markdown",
      "source": [
        "# VOC to YOLO\n",
        "\n",
        "The BCCD dataset co-ordinates are in PASCAL VOC format.  \n",
        "PASCAL VOC bounding box cordinates are :  \n",
        "(xmin, ymin, xmax, ymax) i.e co-ordinate of top left (xmin, ymin) and bottom right(xmax, ymax) position of the box.  \n",
        "YOLOv3 bounding box co-ordinate format is:\n",
        "(x, y, w, h) , i.e. center of the bounding box (x,y) and width (w) , height (h)\n",
        "In addition the co-ordinates as well as height and width are required to be normalized according to oriiginal image height and width"
      ],
      "metadata": {
        "id": "4yGjvlJjekd6"
      }
    },
    {
      "cell_type": "code",
      "execution_count": 10,
      "metadata": {
        "colab": {
          "base_uri": "https://localhost:8080/"
        },
        "id": "ULDXAy57TPag",
        "outputId": "2348eda5-87dd-447e-d373-5c70efe2b0b1"
      },
      "outputs": [
        {
          "output_type": "stream",
          "name": "stdout",
          "text": [
            "Drive already mounted at /content/gdrive; to attempt to forcibly remount, call drive.mount(\"/content/gdrive\", force_remount=True).\n"
          ]
        }
      ],
      "source": [
        "# Connect with google drive\n",
        "from google.colab import drive\n",
        "drive.mount('/content/gdrive')"
      ]
    },
    {
      "cell_type": "markdown",
      "source": [
        "## Accesss training data bounding boxes"
      ],
      "metadata": {
        "id": "NcQK48v_pSld"
      }
    },
    {
      "cell_type": "code",
      "source": [
        "import util\n",
        "import numpy as np\n",
        "import os"
      ],
      "metadata": {
        "id": "u24SUPw8rXKF"
      },
      "execution_count": 17,
      "outputs": []
    },
    {
      "cell_type": "code",
      "source": [
        "# Load adta\n",
        "BCCDdf, _ = util.load_data('/content/gdrive/MyDrive/UpGrad/LJMU MS /Data/YOLO_00/YOLO/Training/Annotations' )"
      ],
      "metadata": {
        "id": "4ktR60-du02F"
      },
      "execution_count": 44,
      "outputs": []
    },
    {
      "cell_type": "markdown",
      "source": [
        "Convert to YOLO annotation format"
      ],
      "metadata": {
        "id": "ajvxKOYiIWmx"
      }
    },
    {
      "cell_type": "code",
      "source": [
        "# Encode cell types to numeric 0 - RBC , 1- WBC and 2- Platelet\n",
        "BCCDdf['cell_label'] = np.where(BCCDdf['cell_type']=='RBC', 0, \n",
        "                        np.where(BCCDdf['cell_type']=='WBC', 1,2))\n",
        "\n",
        "# Calculate co-ordinates according to YOLO v3 training and round upto 6 digits\n",
        "# x: bounding box center x co-ordinate\n",
        "BCCDdf['x'] = (BCCDdf['xmin'] + BCCDdf['xmax']) / (640*2)\n",
        "BCCDdf['x'] = BCCDdf['x'].round(6)\n",
        "#bounding box center y co-ordinate\n",
        "BCCDdf['y'] = (BCCDdf['ymin'] + BCCDdf['ymax']) / (480*2)\n",
        "BCCDdf['y'] = BCCDdf['y'].round(6)\n",
        "# bounding box width\n",
        "BCCDdf['w'] = (BCCDdf['xmax'] - BCCDdf['xmin']) / 640\n",
        "BCCDdf['w'] = BCCDdf['w'].round(6)\n",
        "#bounding box height\n",
        "BCCDdf['h'] = (BCCDdf['ymax'] - BCCDdf['ymin']) / 480\n",
        "BCCDdf['h'] = BCCDdf['h'].round(6)\n",
        "\n"
      ],
      "metadata": {
        "id": "VsronjYgxHp7"
      },
      "execution_count": 61,
      "outputs": []
    },
    {
      "cell_type": "markdown",
      "source": [
        "Create a single annotation file for each image and store it in the same location as image"
      ],
      "metadata": {
        "id": "8-t1XcwRIgkF"
      }
    },
    {
      "cell_type": "code",
      "source": [
        "train_IDs=list(set(list(BCCDdf['ID'])))"
      ],
      "metadata": {
        "id": "vKPM40JXzw_S"
      },
      "execution_count": 67,
      "outputs": []
    },
    {
      "cell_type": "code",
      "source": [
        "gdrive_path= '/content/gdrive/MyDrive/UpGrad/LJMU MS /Data/YOLO_00/YOLO/Training/Images'\n",
        "\n",
        "for id in train_IDs:\n",
        "  # Collect annotations for an image\n",
        "  tempdf = BCCDdf[BCCDdf['ID']==id]\n",
        "  tempdf = tempdf[['cell_label','x','y','w','h']]\n",
        "  #Path to store te annotation\n",
        "  file_ext = list(BCCDdf[BCCDdf['ID']==id]['filename'])[0].split('/')[-1].split('.')[0]\n",
        "  file_path= os.path.join(gdrive_path,file_ext)\n",
        "  #store annotation in gdrive\n",
        "  tempdf.to_csv(os.path.join(file_path+\".txt\"), index = False, header=False, sep=' ')\n",
        "  "
      ],
      "metadata": {
        "id": "ekboHbQuA9Cr"
      },
      "execution_count": 88,
      "outputs": []
    }
  ]
}